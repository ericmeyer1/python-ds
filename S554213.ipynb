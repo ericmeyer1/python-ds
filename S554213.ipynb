{
 "cells": [
  {
   "cell_type": "markdown",
   "metadata": {},
   "source": [
    "### Eric Meyer"
   ]
  },
  {
   "cell_type": "code",
   "execution_count": 1,
   "metadata": {},
   "outputs": [
    {
     "name": "stdout",
     "output_type": "stream",
     "text": [
      "*      *\n",
      "**    **\n",
      "***  ***\n",
      "********\n"
     ]
    }
   ],
   "source": [
    "# Draw the pattern using loops\n",
    "rows = 4  # Number of rows for the pattern\n",
    "\n",
    "for i in range(1, rows + 1):\n",
    "    # Print stars on the left side\n",
    "    print('*' * i, end='')\n",
    "\n",
    "    # Print spaces in the middle\n",
    "    spaces = (rows - i) * 2\n",
    "    print(' ' * spaces, end='')\n",
    "\n",
    "    # Print stars on the right side\n",
    "    print('*' * i)"
   ]
  }
 ],
 "metadata": {
  "kernelspec": {
   "display_name": "em-venv",
   "language": "python",
   "name": "python3"
  },
  "language_info": {
   "codemirror_mode": {
    "name": "ipython",
    "version": 3
   },
   "file_extension": ".py",
   "mimetype": "text/x-python",
   "name": "python",
   "nbconvert_exporter": "python",
   "pygments_lexer": "ipython3",
   "version": "3.12.7"
  }
 },
 "nbformat": 4,
 "nbformat_minor": 2
}
